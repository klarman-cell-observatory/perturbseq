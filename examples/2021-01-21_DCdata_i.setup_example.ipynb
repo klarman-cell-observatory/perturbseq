{
 "cells": [
  {
   "cell_type": "code",
   "execution_count": 1,
   "metadata": {},
   "outputs": [],
   "source": [
    "import numpy as np\n",
    "import pandas as pd\n",
    "import scanpy as sc"
   ]
  },
  {
   "cell_type": "code",
   "execution_count": 2,
   "metadata": {},
   "outputs": [],
   "source": [
    "datapath='/ahg/regevdata/projects/Cell2CellCommunication/perturbseq_benchmarks/data/2018-11-09'\n",
    "dataset='dc_3hr'\n",
    "gsm_number='GSM2396856'\n",
    "anno=datapath+'/'+dataset+'/'+gsm_number+'_'+dataset+'_cbc_gbc_dict_lenient.csv.gz' #also experiment with the strict\n",
    "pref=datapath+'/'+dataset+'/'+dataset"
   ]
  },
  {
   "cell_type": "code",
   "execution_count": 3,
   "metadata": {},
   "outputs": [],
   "source": [
    "mtx_file=datapath+'/'+dataset+'/GSM2396856_dc_3hr.mtx.txt.gz'\n",
    "adata=sc.read_mtx(mtx_file)\n",
    "num_cells=len(adata.obs_names)\n",
    "num_genes=len(adata.var_names)"
   ]
  },
  {
   "cell_type": "code",
   "execution_count": 4,
   "metadata": {},
   "outputs": [
    {
     "data": {
      "text/plain": [
       "AnnData object with n_obs × n_vars = 17775 × 32777 "
      ]
     },
     "execution_count": 4,
     "metadata": {},
     "output_type": "execute_result"
    }
   ],
   "source": [
    "adata"
   ]
  },
  {
   "cell_type": "code",
   "execution_count": 5,
   "metadata": {},
   "outputs": [
    {
     "name": "stdout",
     "output_type": "stream",
     "text": [
      "Attaching gene names, cell names\n",
      "/ahg/regevdata/projects/Cell2CellCommunication/perturbseq_benchmarks/data/2018-11-09/dc_3hr/GSM2396856_dc_3hr_genenames.csv.gz\n",
      "['ENSMUSG00000033845_Mrpl15', 'ENSMUSG00000025903_Lypla1', 'ENSMUSG00000033813_Tcea1', 'ENSMUSG00000002459_Rgs20', 'ENSMUSG00000033793_Atp6v1h']\n"
     ]
    }
   ],
   "source": [
    "print('Attaching gene names, cell names')\n",
    "cellnames=datapath+'/'+dataset+'/GSM2396856_dc_3hr_cellnames.csv.gz'\n",
    "genenames=datapath+'/'+dataset+'/GSM2396856_dc_3hr_genenames.csv.gz'\n",
    "print(genenames)\n",
    "cells=list(pd.read_csv(cellnames).iloc[:,1])\n",
    "genes=list(pd.read_csv(genenames).iloc[:,1])\n",
    "print(genes[:5])"
   ]
  },
  {
   "cell_type": "code",
   "execution_count": 6,
   "metadata": {},
   "outputs": [
    {
     "name": "stdout",
     "output_type": "stream",
     "text": [
      "['Mrpl15', 'Lypla1', 'Tcea1', 'Rgs20']\n"
     ]
    }
   ],
   "source": [
    "genes2=[]\n",
    "for i in range(len(genes)):\n",
    "    genes2.append(genes[i].split('_')[1])\n",
    "print(genes2[:4])"
   ]
  },
  {
   "cell_type": "code",
   "execution_count": 7,
   "metadata": {},
   "outputs": [],
   "source": [
    "if len(cells)==num_cells and len(genes2)==num_genes:\n",
    "    adata.obs_names=cells\n",
    "    adata.var_names=genes2\n",
    "elif len(cells)==num_genes and len(genes2)==num_cells:\n",
    "    #need to transpose adata\n",
    "    adata=adata.T\n",
    "    adata.obs_names=cells\n",
    "    adata.var_names=genes2"
   ]
  },
  {
   "cell_type": "code",
   "execution_count": 8,
   "metadata": {},
   "outputs": [
    {
     "data": {
      "text/plain": [
       "Index(['Mrpl15', 'Lypla1', 'Tcea1', 'Rgs20', 'Atp6v1h', 'Rb1cc1',\n",
       "       '4732440D04Rik', 'St18', 'Pcmtd1', 'Gm26901'],\n",
       "      dtype='object')"
      ]
     },
     "execution_count": 8,
     "metadata": {},
     "output_type": "execute_result"
    }
   ],
   "source": [
    "adata.var_names[:10]"
   ]
  },
  {
   "cell_type": "code",
   "execution_count": 9,
   "metadata": {},
   "outputs": [],
   "source": [
    "#some dataset-specific things\n",
    "#============================\n",
    "\n",
    "#annotate batch\n",
    "batch_var=[]\n",
    "for i in range(adata.n_obs):\n",
    "    cell=adata.obs_names[i]\n",
    "    batch_here=cell.split('_')[2]\n",
    "    batch_var.append(batch_here)\n",
    "adata.obs['batch']=batch_var"
   ]
  },
  {
   "cell_type": "code",
   "execution_count": 10,
   "metadata": {},
   "outputs": [
    {
     "data": {
      "text/plain": [
       "{'A8', 'A9', 'B8', 'B9', 'C8', 'C9', 'D8', 'D9'}"
      ]
     },
     "execution_count": 10,
     "metadata": {},
     "output_type": "execute_result"
    }
   ],
   "source": [
    "set(adata.obs['batch'])"
   ]
  },
  {
   "cell_type": "code",
   "execution_count": 11,
   "metadata": {},
   "outputs": [
    {
     "data": {
      "text/plain": [
       "AnnData object with n_obs × n_vars = 32777 × 17775 \n",
       "    obs: 'batch'"
      ]
     },
     "execution_count": 11,
     "metadata": {},
     "output_type": "execute_result"
    }
   ],
   "source": [
    "adata"
   ]
  },
  {
   "cell_type": "code",
   "execution_count": 12,
   "metadata": {},
   "outputs": [
    {
     "name": "stderr",
     "output_type": "stream",
     "text": [
      "... storing 'batch' as categorical\n"
     ]
    }
   ],
   "source": [
    "adata.write(pref+'raw_counts.h5ad')"
   ]
  },
  {
   "cell_type": "code",
   "execution_count": 13,
   "metadata": {},
   "outputs": [],
   "source": [
    "#annotate perturbations in each cell\n",
    "import re\n",
    "import gzip\n",
    "\n",
    "gbc_cbc={}\n",
    "for line in gzip.open(anno,'r').readlines():\n",
    "    line_text=line.decode('utf-8')\n",
    "    items=re.sub(' ','',re.sub('\"','',line_text.strip())).split(',')\n",
    "    g=items[0]\n",
    "    gbc_cbc[g]=items  "
   ]
  },
  {
   "cell_type": "code",
   "execution_count": 14,
   "metadata": {},
   "outputs": [
    {
     "name": "stdout",
     "output_type": "stream",
     "text": [
      "m_Egr1_4\n",
      "m_Irf1_4\n",
      "m_Irf1_2\n",
      "m_Irf1_1\n",
      "m_Hif1a_3\n",
      "m_Cebpb_1\n",
      "m_Hif1a_1\n",
      "m_Cebpb_3\n",
      "m_Hif1a_4\n",
      "m_Maff_1\n",
      "m_Maff_4\n",
      "m_Irf4_3\n",
      "m_Stat1_3\n",
      "m_Atf3_2\n",
      "m_Junb_4\n",
      "m_E2f1_3\n",
      "m_Relb_1\n",
      "m_Ets2_3\n",
      "m_Ahr_1\n",
      "m_Ets2_4\n",
      "m_Ahr_3\n",
      "m_E2f1_4\n",
      "m_Runx1_4\n",
      "m_Atf3_1\n",
      "m_Runx1_2\n",
      "m_Rel_3\n",
      "m_Rel_2\n",
      "m_Rel_1\n",
      "m_Stat1_2\n",
      "m_Stat2_4\n",
      "m_Spi1_4\n",
      "m_Spi1_2\n",
      "m_Stat1_1\n",
      "m_Stat2_2\n",
      "m_Spi1_3\n",
      "m_Nfkb1_3\n",
      "m_Stat3_3\n",
      "m_E2f4_4\n",
      "m_Stat2_3\n",
      "m_E2f4_2\n",
      "m_E2f4_3\n",
      "m_Irf4_2\n",
      "m_Ctcf_2\n",
      "m_Ctcf_1\n",
      "m_Egr2_2\n",
      "m_Nfkb1_4\n",
      "m_Egr2_4\n",
      "m_Irf4_4\n",
      "m_Rela_3\n",
      "m_MouseNTC_100_A_67005\n",
      "m_Rela_2\n",
      "m_Irf2_1\n",
      "m_Irf2_2\n",
      "m_Irf2_3\n",
      "m_Irf2_4\n",
      "m_Rela_1\n",
      "m_Nfkb1_2\n"
     ]
    }
   ],
   "source": [
    "for g in gbc_cbc.keys():\n",
    "    print(g)\n",
    "    vals=np.zeros((len(adata.obs_names),1))\n",
    "    for cell_idx in range(len(adata.obs_names)):\n",
    "        cell=str(adata.obs_names[cell_idx])\n",
    "        if cell in gbc_cbc[g]:\n",
    "            vals[cell_idx]=1\n",
    "    adata.obs[g]=vals"
   ]
  },
  {
   "cell_type": "markdown",
   "metadata": {},
   "source": [
    "Create input files\n",
    "==="
   ]
  },
  {
   "cell_type": "code",
   "execution_count": 15,
   "metadata": {},
   "outputs": [
    {
     "data": {
      "text/plain": [
       "Index(['AAACATACACGTAC_dc3hLPS_A8', 'AAACATACATGTCG_dc3hLPS_A8',\n",
       "       'AAACATACCAACTG_dc3hLPS_A8', 'AAACATACTCCTTA_dc3hLPS_A8',\n",
       "       'AAACATACTCTCCG_dc3hLPS_A8', 'AAACATTGCTGTCC_dc3hLPS_A8',\n",
       "       'AAACATTGCTTATC_dc3hLPS_A8', 'AAACATTGGCGGAA_dc3hLPS_A8',\n",
       "       'AAACATTGTACTGG_dc3hLPS_A8', 'AAACCGTGCACCAA_dc3hLPS_A8'],\n",
       "      dtype='object')"
      ]
     },
     "execution_count": 15,
     "metadata": {},
     "output_type": "execute_result"
    }
   ],
   "source": [
    "adata.obs_names[:10]"
   ]
  },
  {
   "cell_type": "code",
   "execution_count": 16,
   "metadata": {},
   "outputs": [],
   "source": [
    "#cell2guide\n",
    "guides=['m_Egr1_4', 'm_Irf1_4', 'm_Irf1_2', 'm_Irf1_1', 'm_Hif1a_3', 'm_Cebpb_1', 'm_Hif1a_1', 'm_Cebpb_3', 'm_Hif1a_4', 'm_Maff_1', 'm_Maff_4', 'm_Irf4_3', 'm_Stat1_3', 'm_Atf3_2', 'm_Junb_4', 'm_E2f1_3', 'm_Relb_1', 'm_Ets2_3', 'm_Ahr_1', 'm_Ets2_4', 'm_Ahr_3', 'm_E2f1_4', 'm_Runx1_4', 'm_Atf3_1', 'm_Runx1_2', 'm_Rel_3', 'm_Rel_2', 'm_Rel_1', 'm_Stat1_2', 'm_Stat2_4', 'm_Spi1_4', 'm_Spi1_2', 'm_Stat1_1', 'm_Stat2_2', 'm_Spi1_3', 'm_Nfkb1_3', 'm_Stat3_3', 'm_E2f4_4', 'm_Stat2_3', 'm_E2f4_2', 'm_E2f4_3', 'm_Irf4_2', 'm_Ctcf_2', 'm_Ctcf_1', 'm_Egr2_2', 'm_Nfkb1_4', 'm_Egr2_4', 'm_Irf4_4', 'm_Rela_3', 'm_MouseNTC_100_A_67005', 'm_Rela_2', 'm_Irf2_1', 'm_Irf2_2', 'm_Irf2_3', 'm_Irf2_4', 'm_Rela_1', 'm_Nfkb1_2']\n",
    "cell2guide_df=adata.obs[guides]\n",
    "cell2guide_df['cell']=list(cell2guide_df.index)\n",
    "cell2guide_df.to_csv(pref+'.cell2guide.csv.gz',sep='\\t',compression='gzip',index=None)"
   ]
  },
  {
   "cell_type": "code",
   "execution_count": 17,
   "metadata": {},
   "outputs": [
    {
     "name": "stdout",
     "output_type": "stream",
     "text": [
      "                                         guide      gene\n",
      "m_Egr1_4                              m_Egr1_4      Egr1\n",
      "m_Irf1_4                              m_Irf1_4      Irf1\n",
      "m_Irf1_2                              m_Irf1_2      Irf1\n",
      "m_Irf1_1                              m_Irf1_1      Irf1\n",
      "m_Hif1a_3                            m_Hif1a_3     Hif1a\n",
      "m_Cebpb_1                            m_Cebpb_1     Cebpb\n",
      "m_Hif1a_1                            m_Hif1a_1     Hif1a\n",
      "m_Cebpb_3                            m_Cebpb_3     Cebpb\n",
      "m_Hif1a_4                            m_Hif1a_4     Hif1a\n",
      "m_Maff_1                              m_Maff_1      Maff\n",
      "m_Maff_4                              m_Maff_4      Maff\n",
      "m_Irf4_3                              m_Irf4_3      Irf4\n",
      "m_Stat1_3                            m_Stat1_3     Stat1\n",
      "m_Atf3_2                              m_Atf3_2      Atf3\n",
      "m_Junb_4                              m_Junb_4      Junb\n",
      "m_E2f1_3                              m_E2f1_3      E2f1\n",
      "m_Relb_1                              m_Relb_1      Relb\n",
      "m_Ets2_3                              m_Ets2_3      Ets2\n",
      "m_Ahr_1                                m_Ahr_1       Ahr\n",
      "m_Ets2_4                              m_Ets2_4      Ets2\n",
      "m_Ahr_3                                m_Ahr_3       Ahr\n",
      "m_E2f1_4                              m_E2f1_4      E2f1\n",
      "m_Runx1_4                            m_Runx1_4     Runx1\n",
      "m_Atf3_1                              m_Atf3_1      Atf3\n",
      "m_Runx1_2                            m_Runx1_2     Runx1\n",
      "m_Rel_3                                m_Rel_3       Rel\n",
      "m_Rel_2                                m_Rel_2       Rel\n",
      "m_Rel_1                                m_Rel_1       Rel\n",
      "m_Stat1_2                            m_Stat1_2     Stat1\n",
      "m_Stat2_4                            m_Stat2_4     Stat2\n",
      "m_Spi1_4                              m_Spi1_4      Spi1\n",
      "m_Spi1_2                              m_Spi1_2      Spi1\n",
      "m_Stat1_1                            m_Stat1_1     Stat1\n",
      "m_Stat2_2                            m_Stat2_2     Stat2\n",
      "m_Spi1_3                              m_Spi1_3      Spi1\n",
      "m_Nfkb1_3                            m_Nfkb1_3     Nfkb1\n",
      "m_Stat3_3                            m_Stat3_3     Stat3\n",
      "m_E2f4_4                              m_E2f4_4      E2f4\n",
      "m_Stat2_3                            m_Stat2_3     Stat2\n",
      "m_E2f4_2                              m_E2f4_2      E2f4\n",
      "m_E2f4_3                              m_E2f4_3      E2f4\n",
      "m_Irf4_2                              m_Irf4_2      Irf4\n",
      "m_Ctcf_2                              m_Ctcf_2      Ctcf\n",
      "m_Ctcf_1                              m_Ctcf_1      Ctcf\n",
      "m_Egr2_2                              m_Egr2_2      Egr2\n",
      "m_Nfkb1_4                            m_Nfkb1_4     Nfkb1\n",
      "m_Egr2_4                              m_Egr2_4      Egr2\n",
      "m_Irf4_4                              m_Irf4_4      Irf4\n",
      "m_Rela_3                              m_Rela_3      Rela\n",
      "m_MouseNTC_100_A_67005  m_MouseNTC_100_A_67005  MouseNTC\n",
      "m_Rela_2                              m_Rela_2      Rela\n",
      "m_Irf2_1                              m_Irf2_1      Irf2\n",
      "m_Irf2_2                              m_Irf2_2      Irf2\n",
      "m_Irf2_3                              m_Irf2_3      Irf2\n",
      "m_Irf2_4                              m_Irf2_4      Irf2\n",
      "m_Rela_1                              m_Rela_1      Rela\n",
      "m_Nfkb1_2                            m_Nfkb1_2     Nfkb1\n",
      "/ahg/regevdata/projects/Cell2CellCommunication/perturbseq_benchmarks/data/2018-11-09/dc_3hr/dc_3hr.guide2gene.csv.gz\n"
     ]
    }
   ],
   "source": [
    "#guide2gene\n",
    "guide2gene_df=pd.DataFrame({'guide':guides})\n",
    "guide2gene_df['gene']='NA'\n",
    "guide2gene_df.index=list(guide2gene_df['guide'])\n",
    "\n",
    "import re\n",
    "for g in guides:\n",
    "    guide2gene_df.loc[g,'gene']=re.sub('m_','',g).split('_')[0]\n",
    "print(guide2gene_df)\n",
    "guide2gene_df.to_csv(pref+'.guide2gene.csv.gz',sep='\\t',compression='gzip',index=None)\n",
    "print(pref+'.guide2gene.csv.gz')"
   ]
  },
  {
   "cell_type": "code",
   "execution_count": null,
   "metadata": {},
   "outputs": [],
   "source": []
  }
 ],
 "metadata": {
  "kernelspec": {
   "display_name": "Python 3",
   "language": "python",
   "name": "python3"
  },
  "language_info": {
   "codemirror_mode": {
    "name": "ipython",
    "version": 3
   },
   "file_extension": ".py",
   "mimetype": "text/x-python",
   "name": "python",
   "nbconvert_exporter": "python",
   "pygments_lexer": "ipython3",
   "version": "3.6.8"
  }
 },
 "nbformat": 4,
 "nbformat_minor": 2
}
